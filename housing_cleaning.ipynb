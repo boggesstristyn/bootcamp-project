{
 "cells": [
  {
   "cell_type": "code",
   "execution_count": 1,
   "id": "caabdfbc",
   "metadata": {},
   "outputs": [],
   "source": [
    "import pandas as pd"
   ]
  },
  {
   "cell_type": "code",
   "execution_count": 2,
   "id": "e84676aa",
   "metadata": {},
   "outputs": [],
   "source": [
    "housing_df = pd.read_csv('Resources/2014_Housing_Market_Analysis_Data_by_Zip_Code.csv', low_memory=False)"
   ]
  },
  {
   "cell_type": "code",
   "execution_count": 3,
   "id": "fce71fa7",
   "metadata": {},
   "outputs": [
    {
     "data": {
      "text/html": [
       "<div>\n",
       "<style scoped>\n",
       "    .dataframe tbody tr th:only-of-type {\n",
       "        vertical-align: middle;\n",
       "    }\n",
       "\n",
       "    .dataframe tbody tr th {\n",
       "        vertical-align: top;\n",
       "    }\n",
       "\n",
       "    .dataframe thead th {\n",
       "        text-align: right;\n",
       "    }\n",
       "</style>\n",
       "<table border=\"1\" class=\"dataframe\">\n",
       "  <thead>\n",
       "    <tr style=\"text-align: right;\">\n",
       "      <th></th>\n",
       "      <th>Zip Code</th>\n",
       "      <th>Population below poverty level</th>\n",
       "      <th>Median household income</th>\n",
       "      <th>Non-White, Non-Hispanic or Latino</th>\n",
       "      <th>Hispanic or Latino, of any race</th>\n",
       "      <th>Population with disability</th>\n",
       "      <th>Unemployment</th>\n",
       "      <th>Large households (5+ members)</th>\n",
       "      <th>Homes affordable to people earning less than $50,000</th>\n",
       "      <th>Rentals affordable to people earning less than $25,000</th>\n",
       "      <th>...</th>\n",
       "      <th>Rental units affordable to average teacher</th>\n",
       "      <th>Owner units affordable to average teacher</th>\n",
       "      <th>Rental units affordable to average tech worker</th>\n",
       "      <th>Owner units affordable to average tech worker</th>\n",
       "      <th>Change in percentage of population below poverty, 2000-2012</th>\n",
       "      <th>Change in median rent, 2000-2012</th>\n",
       "      <th>Change in median home value, 2000-2012</th>\n",
       "      <th>Percentage of homes within 1/4-mi of transit stop</th>\n",
       "      <th>Average monthly transportation cost</th>\n",
       "      <th>Percentage of housing and transportation costs that is transportation-related</th>\n",
       "    </tr>\n",
       "  </thead>\n",
       "  <tbody>\n",
       "    <tr>\n",
       "      <th>0</th>\n",
       "      <td>78726.0</td>\n",
       "      <td>9</td>\n",
       "      <td>66096</td>\n",
       "      <td>16</td>\n",
       "      <td>20</td>\n",
       "      <td>3</td>\n",
       "      <td>4</td>\n",
       "      <td>2</td>\n",
       "      <td>0.0</td>\n",
       "      <td>1</td>\n",
       "      <td>...</td>\n",
       "      <td>70</td>\n",
       "      <td>0.0</td>\n",
       "      <td>99</td>\n",
       "      <td>17.0</td>\n",
       "      <td>375</td>\n",
       "      <td>20</td>\n",
       "      <td>55</td>\n",
       "      <td>2</td>\n",
       "      <td>786</td>\n",
       "      <td>40</td>\n",
       "    </tr>\n",
       "    <tr>\n",
       "      <th>1</th>\n",
       "      <td>NaN</td>\n",
       "      <td>19</td>\n",
       "      <td>52431</td>\n",
       "      <td>16</td>\n",
       "      <td>35</td>\n",
       "      <td>8</td>\n",
       "      <td>7</td>\n",
       "      <td>8</td>\n",
       "      <td>24.0</td>\n",
       "      <td>10</td>\n",
       "      <td>...</td>\n",
       "      <td>74</td>\n",
       "      <td>22.0</td>\n",
       "      <td>98</td>\n",
       "      <td>58.0</td>\n",
       "      <td>65</td>\n",
       "      <td>31</td>\n",
       "      <td>74</td>\n",
       "      <td>29</td>\n",
       "      <td>668</td>\n",
       "      <td>38</td>\n",
       "    </tr>\n",
       "    <tr>\n",
       "      <th>2</th>\n",
       "      <td>78724.0</td>\n",
       "      <td>38</td>\n",
       "      <td>35711</td>\n",
       "      <td>29</td>\n",
       "      <td>63</td>\n",
       "      <td>8</td>\n",
       "      <td>8</td>\n",
       "      <td>28</td>\n",
       "      <td>85.0</td>\n",
       "      <td>16</td>\n",
       "      <td>...</td>\n",
       "      <td>78</td>\n",
       "      <td>84.0</td>\n",
       "      <td>100</td>\n",
       "      <td>96.0</td>\n",
       "      <td>208</td>\n",
       "      <td>37</td>\n",
       "      <td>46</td>\n",
       "      <td>21</td>\n",
       "      <td>786</td>\n",
       "      <td>40</td>\n",
       "    </tr>\n",
       "    <tr>\n",
       "      <th>3</th>\n",
       "      <td>78617.0</td>\n",
       "      <td>18</td>\n",
       "      <td>43957</td>\n",
       "      <td>12</td>\n",
       "      <td>67</td>\n",
       "      <td>10</td>\n",
       "      <td>15</td>\n",
       "      <td>23</td>\n",
       "      <td>NaN</td>\n",
       "      <td>11</td>\n",
       "      <td>...</td>\n",
       "      <td>63</td>\n",
       "      <td>NaN</td>\n",
       "      <td>99</td>\n",
       "      <td>NaN</td>\n",
       "      <td>101</td>\n",
       "      <td>74</td>\n",
       "      <td>21</td>\n",
       "      <td>16</td>\n",
       "      <td>865</td>\n",
       "      <td>42</td>\n",
       "    </tr>\n",
       "    <tr>\n",
       "      <th>4</th>\n",
       "      <td>78701.0</td>\n",
       "      <td>20</td>\n",
       "      <td>68152</td>\n",
       "      <td>16</td>\n",
       "      <td>14</td>\n",
       "      <td>10</td>\n",
       "      <td>9</td>\n",
       "      <td>0</td>\n",
       "      <td>7.0</td>\n",
       "      <td>7</td>\n",
       "      <td>...</td>\n",
       "      <td>29</td>\n",
       "      <td>7.0</td>\n",
       "      <td>90</td>\n",
       "      <td>30.0</td>\n",
       "      <td>12</td>\n",
       "      <td>115</td>\n",
       "      <td>59</td>\n",
       "      <td>97</td>\n",
       "      <td>433</td>\n",
       "      <td>23</td>\n",
       "    </tr>\n",
       "  </tbody>\n",
       "</table>\n",
       "<p>5 rows × 30 columns</p>\n",
       "</div>"
      ],
      "text/plain": [
       "   Zip Code  Population below poverty level  Median household income  \\\n",
       "0   78726.0                               9                    66096   \n",
       "1       NaN                              19                    52431   \n",
       "2   78724.0                              38                    35711   \n",
       "3   78617.0                              18                    43957   \n",
       "4   78701.0                              20                    68152   \n",
       "\n",
       "   Non-White, Non-Hispanic or Latino  Hispanic or Latino, of any race  \\\n",
       "0                                 16                               20   \n",
       "1                                 16                               35   \n",
       "2                                 29                               63   \n",
       "3                                 12                               67   \n",
       "4                                 16                               14   \n",
       "\n",
       "   Population with disability  Unemployment  Large households (5+ members)  \\\n",
       "0                           3             4                              2   \n",
       "1                           8             7                              8   \n",
       "2                           8             8                             28   \n",
       "3                          10            15                             23   \n",
       "4                          10             9                              0   \n",
       "\n",
       "   Homes affordable to people earning less than $50,000  \\\n",
       "0                                                0.0      \n",
       "1                                               24.0      \n",
       "2                                               85.0      \n",
       "3                                                NaN      \n",
       "4                                                7.0      \n",
       "\n",
       "   Rentals affordable to people earning less than $25,000  ...  \\\n",
       "0                                                  1       ...   \n",
       "1                                                 10       ...   \n",
       "2                                                 16       ...   \n",
       "3                                                 11       ...   \n",
       "4                                                  7       ...   \n",
       "\n",
       "   Rental units affordable to average teacher  \\\n",
       "0                                          70   \n",
       "1                                          74   \n",
       "2                                          78   \n",
       "3                                          63   \n",
       "4                                          29   \n",
       "\n",
       "   Owner units affordable to average teacher  \\\n",
       "0                                        0.0   \n",
       "1                                       22.0   \n",
       "2                                       84.0   \n",
       "3                                        NaN   \n",
       "4                                        7.0   \n",
       "\n",
       "   Rental units affordable to average tech worker  \\\n",
       "0                                              99   \n",
       "1                                              98   \n",
       "2                                             100   \n",
       "3                                              99   \n",
       "4                                              90   \n",
       "\n",
       "   Owner units affordable to average tech worker  \\\n",
       "0                                           17.0   \n",
       "1                                           58.0   \n",
       "2                                           96.0   \n",
       "3                                            NaN   \n",
       "4                                           30.0   \n",
       "\n",
       "   Change in percentage of population below poverty, 2000-2012  \\\n",
       "0                                                375             \n",
       "1                                                 65             \n",
       "2                                                208             \n",
       "3                                                101             \n",
       "4                                                 12             \n",
       "\n",
       "   Change in median rent, 2000-2012  Change in median home value, 2000-2012  \\\n",
       "0                                20                                      55   \n",
       "1                                31                                      74   \n",
       "2                                37                                      46   \n",
       "3                                74                                      21   \n",
       "4                               115                                      59   \n",
       "\n",
       "   Percentage of homes within 1/4-mi of transit stop  \\\n",
       "0                                                  2   \n",
       "1                                                 29   \n",
       "2                                                 21   \n",
       "3                                                 16   \n",
       "4                                                 97   \n",
       "\n",
       "   Average monthly transportation cost  \\\n",
       "0                                  786   \n",
       "1                                  668   \n",
       "2                                  786   \n",
       "3                                  865   \n",
       "4                                  433   \n",
       "\n",
       "   Percentage of housing and transportation costs that is transportation-related  \n",
       "0                                                 40                              \n",
       "1                                                 38                              \n",
       "2                                                 40                              \n",
       "3                                                 42                              \n",
       "4                                                 23                              \n",
       "\n",
       "[5 rows x 30 columns]"
      ]
     },
     "execution_count": 3,
     "metadata": {},
     "output_type": "execute_result"
    }
   ],
   "source": [
    "housing_df.head()"
   ]
  },
  {
   "cell_type": "code",
   "execution_count": 4,
   "id": "6b0397a3",
   "metadata": {},
   "outputs": [
    {
     "data": {
      "text/plain": [
       "(37, 30)"
      ]
     },
     "execution_count": 4,
     "metadata": {},
     "output_type": "execute_result"
    }
   ],
   "source": [
    "housing_df.shape"
   ]
  },
  {
   "cell_type": "code",
   "execution_count": 5,
   "id": "fb5a4987",
   "metadata": {},
   "outputs": [
    {
     "data": {
      "text/plain": [
       "Index(['Zip Code', 'Population below poverty level', 'Median household income',\n",
       "       'Non-White, Non-Hispanic or Latino', 'Hispanic or Latino, of any race',\n",
       "       'Population with disability', 'Unemployment',\n",
       "       'Large households (5+ members)',\n",
       "       'Homes affordable to people earning less than $50,000',\n",
       "       'Rentals affordable to people earning less than $25,000',\n",
       "       'Rent-restricted units', 'Housing Choice Voucher holders',\n",
       "       'Median rent', 'Median home value',\n",
       "       'Percentage of rental units in poor condition',\n",
       "       'Percent change in number of housing units, 2000-2012',\n",
       "       'Owner units affordable to average retail/service worker',\n",
       "       'Rental units affordable to average retail/service worker',\n",
       "       'Rental units affordable to average artist',\n",
       "       'Owner units affordable to average artist',\n",
       "       'Rental units affordable to average teacher',\n",
       "       'Owner units affordable to average teacher',\n",
       "       'Rental units affordable to average tech worker',\n",
       "       'Owner units affordable to average tech worker',\n",
       "       'Change in percentage of population below poverty, 2000-2012',\n",
       "       'Change in median rent, 2000-2012',\n",
       "       'Change in median home value, 2000-2012',\n",
       "       'Percentage of homes within 1/4-mi of transit stop',\n",
       "       'Average monthly transportation cost',\n",
       "       'Percentage of housing and transportation costs that is transportation-related'],\n",
       "      dtype='object')"
      ]
     },
     "execution_count": 5,
     "metadata": {},
     "output_type": "execute_result"
    }
   ],
   "source": [
    "housing_df.columns"
   ]
  },
  {
   "cell_type": "code",
   "execution_count": 6,
   "id": "455f0958",
   "metadata": {},
   "outputs": [
    {
     "data": {
      "text/plain": [
       "Zip Code                                                                         1\n",
       "Population below poverty level                                                   0\n",
       "Median household income                                                          0\n",
       "Non-White, Non-Hispanic or Latino                                                0\n",
       "Hispanic or Latino, of any race                                                  0\n",
       "Population with disability                                                       0\n",
       "Unemployment                                                                     0\n",
       "Large households (5+ members)                                                    0\n",
       "Homes affordable to people earning less than $50,000                             1\n",
       "Rentals affordable to people earning less than $25,000                           0\n",
       "Rent-restricted units                                                            0\n",
       "Housing Choice Voucher holders                                                   0\n",
       "Median rent                                                                      0\n",
       "Median home value                                                                0\n",
       "Percentage of rental units in poor condition                                     0\n",
       "Percent change in number of housing units, 2000-2012                             0\n",
       "Owner units affordable to average retail/service worker                          1\n",
       "Rental units affordable to average retail/service worker                         0\n",
       "Rental units affordable to average artist                                        0\n",
       "Owner units affordable to average artist                                         1\n",
       "Rental units affordable to average teacher                                       0\n",
       "Owner units affordable to average teacher                                        1\n",
       "Rental units affordable to average tech worker                                   0\n",
       "Owner units affordable to average tech worker                                    1\n",
       "Change in percentage of population below poverty, 2000-2012                      0\n",
       "Change in median rent, 2000-2012                                                 0\n",
       "Change in median home value, 2000-2012                                           0\n",
       "Percentage of homes within 1/4-mi of transit stop                                0\n",
       "Average monthly transportation cost                                              0\n",
       "Percentage of housing and transportation costs that is transportation-related    0\n",
       "dtype: int64"
      ]
     },
     "execution_count": 6,
     "metadata": {},
     "output_type": "execute_result"
    }
   ],
   "source": [
    "housing_df.isnull().sum()"
   ]
  },
  {
   "cell_type": "code",
   "execution_count": 7,
   "id": "14019fa3",
   "metadata": {},
   "outputs": [],
   "source": [
    "housing_clean_df = housing_df.dropna()"
   ]
  },
  {
   "cell_type": "code",
   "execution_count": 8,
   "id": "bd86134a",
   "metadata": {},
   "outputs": [
    {
     "data": {
      "text/plain": [
       "(35, 30)"
      ]
     },
     "execution_count": 8,
     "metadata": {},
     "output_type": "execute_result"
    }
   ],
   "source": [
    "housing_clean_df.shape"
   ]
  },
  {
   "cell_type": "code",
   "execution_count": 9,
   "id": "520050c9",
   "metadata": {},
   "outputs": [
    {
     "data": {
      "text/plain": [
       "Zip Code                                                                         float64\n",
       "Population below poverty level                                                     int64\n",
       "Median household income                                                            int64\n",
       "Non-White, Non-Hispanic or Latino                                                  int64\n",
       "Hispanic or Latino, of any race                                                    int64\n",
       "Population with disability                                                         int64\n",
       "Unemployment                                                                       int64\n",
       "Large households (5+ members)                                                      int64\n",
       "Homes affordable to people earning less than $50,000                             float64\n",
       "Rentals affordable to people earning less than $25,000                             int64\n",
       "Rent-restricted units                                                              int64\n",
       "Housing Choice Voucher holders                                                     int64\n",
       "Median rent                                                                        int64\n",
       "Median home value                                                                  int64\n",
       "Percentage of rental units in poor condition                                     float64\n",
       "Percent change in number of housing units, 2000-2012                               int64\n",
       "Owner units affordable to average retail/service worker                          float64\n",
       "Rental units affordable to average retail/service worker                           int64\n",
       "Rental units affordable to average artist                                          int64\n",
       "Owner units affordable to average artist                                         float64\n",
       "Rental units affordable to average teacher                                         int64\n",
       "Owner units affordable to average teacher                                        float64\n",
       "Rental units affordable to average tech worker                                     int64\n",
       "Owner units affordable to average tech worker                                    float64\n",
       "Change in percentage of population below poverty, 2000-2012                        int64\n",
       "Change in median rent, 2000-2012                                                   int64\n",
       "Change in median home value, 2000-2012                                             int64\n",
       "Percentage of homes within 1/4-mi of transit stop                                  int64\n",
       "Average monthly transportation cost                                                int64\n",
       "Percentage of housing and transportation costs that is transportation-related      int64\n",
       "dtype: object"
      ]
     },
     "execution_count": 9,
     "metadata": {},
     "output_type": "execute_result"
    }
   ],
   "source": [
    "housing_clean_df.dtypes"
   ]
  },
  {
   "cell_type": "code",
   "execution_count": null,
   "id": "ea12ab2e",
   "metadata": {},
   "outputs": [],
   "source": []
  },
  {
   "cell_type": "code",
   "execution_count": null,
   "id": "0baa6093",
   "metadata": {},
   "outputs": [],
   "source": []
  },
  {
   "cell_type": "code",
   "execution_count": null,
   "id": "286d56ef",
   "metadata": {},
   "outputs": [],
   "source": [
    "#import sqlite3"
   ]
  },
  {
   "cell_type": "code",
   "execution_count": null,
   "id": "dbb8f3a8",
   "metadata": {},
   "outputs": [],
   "source": [
    "#conn = sqlite3.connect('gentrification_db.sqlite')"
   ]
  },
  {
   "cell_type": "code",
   "execution_count": null,
   "id": "b6e7b0a2",
   "metadata": {},
   "outputs": [],
   "source": [
    "#housing_clean_df.to_sql(name='housing_market_df', con=conn, if_exists='replace', index=False)"
   ]
  }
 ],
 "metadata": {
  "kernelspec": {
   "display_name": "mlenv",
   "language": "python",
   "name": "mlenv"
  },
  "language_info": {
   "codemirror_mode": {
    "name": "ipython",
    "version": 3
   },
   "file_extension": ".py",
   "mimetype": "text/x-python",
   "name": "python",
   "nbconvert_exporter": "python",
   "pygments_lexer": "ipython3",
   "version": "3.7.13"
  }
 },
 "nbformat": 4,
 "nbformat_minor": 5
}
