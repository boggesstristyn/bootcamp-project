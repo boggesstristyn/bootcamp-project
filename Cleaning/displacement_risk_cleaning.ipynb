{
 "cells": [
  {
   "cell_type": "markdown",
   "id": "81b344cb",
   "metadata": {},
   "source": [
    "# Read in CSV and Clean"
   ]
  },
  {
   "cell_type": "code",
   "execution_count": null,
   "id": "ba6d8bf3",
   "metadata": {},
   "outputs": [],
   "source": [
    "import pandas as pd"
   ]
  },
  {
   "cell_type": "code",
   "execution_count": null,
   "id": "641b7ea4",
   "metadata": {},
   "outputs": [],
   "source": [
    "displacement_df = pd.read_csv('../Resources/Displacement_Risk_Demographics_2019.csv', low_memory=False)"
   ]
  },
  {
   "cell_type": "code",
   "execution_count": null,
   "id": "7435e59b",
   "metadata": {},
   "outputs": [],
   "source": [
    "displacement_df.head()"
   ]
  },
  {
   "cell_type": "code",
   "execution_count": null,
   "id": "66f2d7de",
   "metadata": {},
   "outputs": [],
   "source": [
    "displacement_df.shape"
   ]
  },
  {
   "cell_type": "code",
   "execution_count": null,
   "id": "64963c22",
   "metadata": {},
   "outputs": [],
   "source": [
    "displacement_df.columns"
   ]
  },
  {
   "cell_type": "code",
   "execution_count": null,
   "id": "b19cbc30",
   "metadata": {},
   "outputs": [],
   "source": [
    "displacement_df.isnull().sum()"
   ]
  },
  {
   "cell_type": "code",
   "execution_count": null,
   "id": "1203da0f",
   "metadata": {},
   "outputs": [],
   "source": [
    "displacement_df['the_geom'].nunique()"
   ]
  },
  {
   "cell_type": "code",
   "execution_count": null,
   "id": "66839657",
   "metadata": {},
   "outputs": [],
   "source": [
    "displacement_clean_df = displacement_df.drop(['GEOID20',\n",
    "                                              'GEOID20_1', \n",
    "                                              'Total City Sponsored Affordable Units', \n",
    "                                              'Total Citywide Affordable Units', \n",
    "                                              'GEOID10',  \n",
    "                                              'GEOID_1', \n",
    "                                              'GEOID1', \n",
    "                                              'DESCRIPTION',\n",
    "                                              'FIPS',\n",
    "                                              'Geographic', \n",
    "                                              'Total_Population_2019',\n",
    "                                              'White (Not Hispanic)_2019',\n",
    "                                              'POC%_2019',\n",
    "                                              'Percent without Bachelors_2019', \n",
    "                                              'Percent with Bachelors_2019', \n",
    "                                              'Percent Renter Occupied Units_2019', \n",
    "                                              'Percent Owner Occupied Units_2019', \n",
    "                                              'Percent Lowmod_2019'], axis=1)"
   ]
  },
  {
   "cell_type": "code",
   "execution_count": null,
   "id": "f49acdb3",
   "metadata": {},
   "outputs": [],
   "source": [
    "displacement_clean_df.head()"
   ]
  },
  {
   "cell_type": "code",
   "execution_count": null,
   "id": "02908e8a",
   "metadata": {},
   "outputs": [],
   "source": [
    "displacement_clean_df = displacement_clean_df.dropna()"
   ]
  },
  {
   "cell_type": "code",
   "execution_count": null,
   "id": "fc3a37f5",
   "metadata": {},
   "outputs": [],
   "source": [
    "displacement_clean_df.shape"
   ]
  },
  {
   "cell_type": "code",
   "execution_count": null,
   "id": "1c54ef41",
   "metadata": {},
   "outputs": [],
   "source": [
    "displacement_clean_df.dtypes"
   ]
  },
  {
   "cell_type": "code",
   "execution_count": null,
   "id": "955cf511",
   "metadata": {},
   "outputs": [],
   "source": [
    "displacement_clean_df['NAME10'] = displacement_clean_df['NAME10'].astype('str')"
   ]
  },
  {
   "cell_type": "code",
   "execution_count": null,
   "id": "110d3670",
   "metadata": {},
   "outputs": [],
   "source": [
    "displacement_clean_df.dtypes"
   ]
  },
  {
   "cell_type": "code",
   "execution_count": null,
   "id": "61feb146",
   "metadata": {},
   "outputs": [],
   "source": [
    "displacement_clean_df['VULNERABLE Pop'].value_counts()"
   ]
  },
  {
   "cell_type": "code",
   "execution_count": null,
   "id": "e446e47e",
   "metadata": {},
   "outputs": [],
   "source": [
    "displacement_clean_df['Occupied Housing Units 2020'].sum()"
   ]
  },
  {
   "cell_type": "code",
   "execution_count": null,
   "id": "09aaa9fb",
   "metadata": {},
   "outputs": [],
   "source": [
    "displacement_clean_df['Vacant Housing Units 2020'].sum()"
   ]
  },
  {
   "cell_type": "code",
   "execution_count": null,
   "id": "7a0e9271",
   "metadata": {},
   "outputs": [],
   "source": [
    "displacement_clean_df['Median Family Income_2019'].describe()"
   ]
  },
  {
   "cell_type": "code",
   "execution_count": null,
   "id": "cc949ee5",
   "metadata": {},
   "outputs": [],
   "source": [
    "displacement_clean_df['Median Home Value_2019'].describe()"
   ]
  },
  {
   "cell_type": "code",
   "execution_count": null,
   "id": "3b36c0c9",
   "metadata": {},
   "outputs": [],
   "source": [
    "displacement_clean_df['Median Gross Rent_2019'].describe()"
   ]
  },
  {
   "cell_type": "code",
   "execution_count": null,
   "id": "0bba9d24",
   "metadata": {},
   "outputs": [],
   "source": [
    "displacement_clean_df['Percent severely rent burdened_2019'].describe()"
   ]
  },
  {
   "cell_type": "code",
   "execution_count": null,
   "id": "e114143a",
   "metadata": {},
   "outputs": [],
   "source": [
    "displacement_clean_df['NAME10'].unique()"
   ]
  },
  {
   "cell_type": "code",
   "execution_count": null,
   "id": "0e774022",
   "metadata": {},
   "outputs": [],
   "source": [
    "displacement_census_tract = displacement_clean_df.NAME10.value_counts()\n",
    "displacement_census_tract = pd.DataFrame(displacement_census_tract)\n",
    "displacement_census_tract.head()"
   ]
  },
  {
   "cell_type": "code",
   "execution_count": null,
   "id": "11cb18c6",
   "metadata": {},
   "outputs": [],
   "source": [
    "displacement_census_tract.index.name = 'census_tract'\n",
    "displacement_census_tract.rename(columns = {'NAME10':'geom_count'}, inplace=True)\n",
    "displacement_census_tract.head()"
   ]
  },
  {
   "cell_type": "code",
   "execution_count": null,
   "id": "5766b185",
   "metadata": {},
   "outputs": [],
   "source": [
    "displacement_clean_df.to_csv('../Resources/Displacement_Risk_Demographics_Cleaned.csv')"
   ]
  },
  {
   "cell_type": "code",
   "execution_count": null,
   "id": "29e0151d",
   "metadata": {},
   "outputs": [],
   "source": []
  },
  {
   "cell_type": "markdown",
   "id": "e3569485",
   "metadata": {},
   "source": [
    "# Database Connection"
   ]
  },
  {
   "cell_type": "code",
   "execution_count": null,
   "id": "e990f869",
   "metadata": {},
   "outputs": [],
   "source": [
    "import sqlite3"
   ]
  },
  {
   "cell_type": "code",
   "execution_count": null,
   "id": "44bf4b6e",
   "metadata": {},
   "outputs": [],
   "source": [
    "conn = sqlite3.connect('gentrification_db.sqlite')"
   ]
  },
  {
   "cell_type": "code",
   "execution_count": null,
   "id": "834b5357",
   "metadata": {},
   "outputs": [],
   "source": [
    "displacement_clean_df.to_sql(name='displacement_risk_df', con=conn, if_exists='replace', index=False)"
   ]
  },
  {
   "cell_type": "code",
   "execution_count": null,
   "id": "13c41abb",
   "metadata": {},
   "outputs": [],
   "source": [
    "table_name = \"displacement_risk_df\"\n",
    "sql_statement = f\"SELECT * FROM {table_name};\"\n",
    "print(sql_statement)\n",
    "\n",
    "displacement_risk_df = pd.read_sql(sql_statement, conn)\n",
    "\n",
    "displacement_risk_df.head(5)"
   ]
  },
  {
   "cell_type": "code",
   "execution_count": null,
   "id": "588da8a9",
   "metadata": {},
   "outputs": [],
   "source": [
    "displacement_census_tract.to_sql(name='displacement_census_df', con=conn, if_exists='replace', index=True)"
   ]
  },
  {
   "cell_type": "code",
   "execution_count": null,
   "id": "d9ce5692",
   "metadata": {},
   "outputs": [],
   "source": [
    "table_name = \"displacement_census_df\"\n",
    "sql_statement = f\"SELECT * FROM {table_name};\"\n",
    "print(sql_statement)\n",
    "\n",
    "displacement_census_df = pd.read_sql(sql_statement, conn)\n",
    "\n",
    "displacement_census_df.head(5)"
   ]
  }
 ],
 "metadata": {
  "kernelspec": {
   "display_name": "mlenv",
   "language": "python",
   "name": "mlenv"
  },
  "language_info": {
   "codemirror_mode": {
    "name": "ipython",
    "version": 3
   },
   "file_extension": ".py",
   "mimetype": "text/x-python",
   "name": "python",
   "nbconvert_exporter": "python",
   "pygments_lexer": "ipython3",
   "version": "3.7.13"
  }
 },
 "nbformat": 4,
 "nbformat_minor": 5
}
