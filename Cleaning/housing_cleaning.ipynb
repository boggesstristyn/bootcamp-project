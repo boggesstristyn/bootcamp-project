{
 "cells": [
  {
   "cell_type": "markdown",
   "id": "d62d31dc",
   "metadata": {},
   "source": [
    "# Read in CSV and Clean"
   ]
  },
  {
   "cell_type": "code",
   "execution_count": null,
   "id": "caabdfbc",
   "metadata": {},
   "outputs": [],
   "source": [
    "import pandas as pd"
   ]
  },
  {
   "cell_type": "code",
   "execution_count": null,
   "id": "e84676aa",
   "metadata": {},
   "outputs": [],
   "source": [
    "housing_df = pd.read_csv('../Resources/2014_Housing_Market_Analysis_Data_by_Zip_Code.csv', low_memory=False)"
   ]
  },
  {
   "cell_type": "code",
   "execution_count": null,
   "id": "fce71fa7",
   "metadata": {},
   "outputs": [],
   "source": [
    "housing_df.head()"
   ]
  },
  {
   "cell_type": "code",
   "execution_count": null,
   "id": "6b0397a3",
   "metadata": {},
   "outputs": [],
   "source": [
    "housing_df.shape"
   ]
  },
  {
   "cell_type": "code",
   "execution_count": null,
   "id": "fb5a4987",
   "metadata": {},
   "outputs": [],
   "source": [
    "housing_df.columns"
   ]
  },
  {
   "cell_type": "code",
   "execution_count": null,
   "id": "455f0958",
   "metadata": {},
   "outputs": [],
   "source": [
    "housing_df.isnull().sum()"
   ]
  },
  {
   "cell_type": "code",
   "execution_count": null,
   "id": "14019fa3",
   "metadata": {},
   "outputs": [],
   "source": [
    "housing_clean_df = housing_df.dropna()"
   ]
  },
  {
   "cell_type": "code",
   "execution_count": null,
   "id": "bd86134a",
   "metadata": {},
   "outputs": [],
   "source": [
    "housing_clean_df.shape"
   ]
  },
  {
   "cell_type": "code",
   "execution_count": null,
   "id": "520050c9",
   "metadata": {},
   "outputs": [],
   "source": [
    "housing_clean_df.dtypes"
   ]
  },
  {
   "cell_type": "code",
   "execution_count": null,
   "id": "ea12ab2e",
   "metadata": {},
   "outputs": [],
   "source": [
    "housing_clean_df.to_csv('../Resources/2014_Housing_Market_Cleaned.csv')"
   ]
  },
  {
   "cell_type": "code",
   "execution_count": null,
   "id": "e2586bfd",
   "metadata": {},
   "outputs": [],
   "source": []
  },
  {
   "cell_type": "markdown",
   "id": "735dc75a",
   "metadata": {},
   "source": [
    "# Database Connection"
   ]
  },
  {
   "cell_type": "code",
   "execution_count": null,
   "id": "286d56ef",
   "metadata": {},
   "outputs": [],
   "source": [
    "import sqlite3"
   ]
  },
  {
   "cell_type": "code",
   "execution_count": null,
   "id": "dbb8f3a8",
   "metadata": {},
   "outputs": [],
   "source": [
    "conn = sqlite3.connect('gentrification_db.sqlite')"
   ]
  },
  {
   "cell_type": "code",
   "execution_count": null,
   "id": "b6e7b0a2",
   "metadata": {},
   "outputs": [],
   "source": [
    "housing_clean_df.to_sql(name='housing_market_df', con=conn, if_exists='replace', index=False)"
   ]
  },
  {
   "cell_type": "code",
   "execution_count": null,
   "id": "e95a0d90",
   "metadata": {},
   "outputs": [],
   "source": [
    "table_name = \"housing_market_df\"\n",
    "sql_statement = f\"SELECT * FROM {table_name};\"\n",
    "print(sql_statement)\n",
    "\n",
    "housing_market_df = pd.read_sql(sql_statement, conn)\n",
    "\n",
    "housing_market_df.head(5)"
   ]
  },
  {
   "cell_type": "code",
   "execution_count": null,
   "id": "e5f13b42",
   "metadata": {},
   "outputs": [],
   "source": []
  }
 ],
 "metadata": {
  "kernelspec": {
   "display_name": "mlenv",
   "language": "python",
   "name": "mlenv"
  },
  "language_info": {
   "codemirror_mode": {
    "name": "ipython",
    "version": 3
   },
   "file_extension": ".py",
   "mimetype": "text/x-python",
   "name": "python",
   "nbconvert_exporter": "python",
   "pygments_lexer": "ipython3",
   "version": "3.7.13"
  }
 },
 "nbformat": 4,
 "nbformat_minor": 5
}
