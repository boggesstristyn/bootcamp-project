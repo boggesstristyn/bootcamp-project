{
 "cells": [
  {
   "cell_type": "markdown",
   "id": "d36ff5fa",
   "metadata": {},
   "source": [
    "# API Call and Cleaning"
   ]
  },
  {
   "cell_type": "code",
   "execution_count": null,
   "id": "7e29d70f",
   "metadata": {},
   "outputs": [],
   "source": [
    "import pandas as pd\n",
    "from sodapy import Socrata\n",
    "\n",
    "# Unauthenticated client use of data.austintexas.gov API\n",
    "client = Socrata(\"data.austintexas.gov\", None)\n",
    "\n",
    "# Get results, returned as JSON from API / converted to Python list of dictionaries by sodapy\n",
    "results = client.get(\"fdj4-gpfu\", where=[{\"occ_date\">=\"2014-01-01T00:00:00.000\"}], limit=500000)\n",
    "\n",
    "# Convert to pandas DataFrame\n",
    "crime_df = pd.DataFrame.from_records(results)"
   ]
  },
  {
   "cell_type": "code",
   "execution_count": null,
   "id": "f10611fc",
   "metadata": {},
   "outputs": [],
   "source": [
    "crime_df.head()"
   ]
  },
  {
   "cell_type": "code",
   "execution_count": null,
   "id": "435c15bc",
   "metadata": {},
   "outputs": [],
   "source": [
    "crime_df.shape"
   ]
  },
  {
   "cell_type": "code",
   "execution_count": null,
   "id": "cb9ac3b0",
   "metadata": {},
   "outputs": [],
   "source": [
    "crime_df.columns"
   ]
  },
  {
   "cell_type": "code",
   "execution_count": null,
   "id": "120c88f1",
   "metadata": {},
   "outputs": [],
   "source": [
    "crime_df.isnull().sum()"
   ]
  },
  {
   "cell_type": "code",
   "execution_count": null,
   "id": "5579f238",
   "metadata": {},
   "outputs": [],
   "source": [
    "crime_clean_df = crime_df.drop(['family_violence', \n",
    "                                'occ_date_time', \n",
    "                                'occ_time', \n",
    "                                'rep_date_time', \n",
    "                                'rep_date',\n",
    "                                'rep_time', \n",
    "                                'clearance_status', \n",
    "                                'clearance_date', \n",
    "                                'pra', \n",
    "                                'ucr_category', \n",
    "                                'category_description',\n",
    "                                'location'], axis=1, inplace=False)"
   ]
  },
  {
   "cell_type": "code",
   "execution_count": null,
   "id": "3d745799",
   "metadata": {},
   "outputs": [],
   "source": [
    "crime_clean_df.head()"
   ]
  },
  {
   "cell_type": "code",
   "execution_count": null,
   "id": "3abf343d",
   "metadata": {},
   "outputs": [],
   "source": [
    "crime_clean_df = crime_clean_df.dropna()"
   ]
  },
  {
   "cell_type": "code",
   "execution_count": null,
   "id": "8f4875d5",
   "metadata": {},
   "outputs": [],
   "source": [
    "crime_clean_df.shape"
   ]
  },
  {
   "cell_type": "code",
   "execution_count": null,
   "id": "95256e34",
   "metadata": {},
   "outputs": [],
   "source": [
    "crime_clean_df.dtypes"
   ]
  },
  {
   "cell_type": "code",
   "execution_count": null,
   "id": "1c096bb1",
   "metadata": {},
   "outputs": [],
   "source": [
    "crime_clean_df['incident_report_number'] = crime_clean_df['incident_report_number'].astype('int64')\n",
    "crime_clean_df['crime_type'] = crime_clean_df['crime_type'].astype('str')\n",
    "crime_clean_df['ucr_code'] = crime_clean_df['ucr_code'].astype('int')\n",
    "crime_clean_df['location_type'] = crime_clean_df['location_type'].astype('str')\n",
    "crime_clean_df['address'] = crime_clean_df['address'].astype('str')\n",
    "crime_clean_df['zip_code'] = crime_clean_df['zip_code'].astype('int')\n",
    "crime_clean_df['council_district'] = crime_clean_df['council_district'].astype('int')\n",
    "crime_clean_df['sector'] = crime_clean_df['sector'].astype('str')\n",
    "crime_clean_df['district'] = crime_clean_df['district'].astype('str')\n",
    "crime_clean_df['census_tract'] = crime_clean_df['census_tract'].astype('str')\n",
    "crime_clean_df['x_coordinate'] = crime_clean_df['x_coordinate'].astype('float64')\n",
    "crime_clean_df['y_coordinate'] = crime_clean_df['y_coordinate'].astype('float64')\n",
    "crime_clean_df['latitude'] = crime_clean_df['latitude'].astype('float64')\n",
    "crime_clean_df['longitude'] = crime_clean_df['longitude'].astype('float64')"
   ]
  },
  {
   "cell_type": "code",
   "execution_count": null,
   "id": "9c3be4c4",
   "metadata": {},
   "outputs": [],
   "source": [
    "crime_clean_df['occ_date'] = pd.to_datetime(crime_clean_df['occ_date'])"
   ]
  },
  {
   "cell_type": "code",
   "execution_count": null,
   "id": "0af21c5a",
   "metadata": {},
   "outputs": [],
   "source": [
    "crime_clean_df.dtypes"
   ]
  },
  {
   "cell_type": "code",
   "execution_count": null,
   "id": "923080af",
   "metadata": {},
   "outputs": [],
   "source": [
    "crime_clean_df.groupby(['zip_code'])['zip_code'].count()"
   ]
  },
  {
   "cell_type": "code",
   "execution_count": null,
   "id": "a308d802",
   "metadata": {},
   "outputs": [],
   "source": [
    "crime_clean_df.groupby([''])"
   ]
  },
  {
   "cell_type": "code",
   "execution_count": null,
   "id": "ae7c3d72",
   "metadata": {},
   "outputs": [],
   "source": [
    "crime_clean_df['census_tract'].unique()"
   ]
  },
  {
   "cell_type": "code",
   "execution_count": null,
   "id": "019d7f1c",
   "metadata": {},
   "outputs": [],
   "source": [
    "crime_clean_df['census_tract'].nunique()"
   ]
  },
  {
   "cell_type": "code",
   "execution_count": null,
   "id": "6f3347b7",
   "metadata": {},
   "outputs": [],
   "source": [
    "census_tract_counts = crime_clean_df.census_tract.value_counts()\n",
    "census_tract_df = pd.DataFrame(census_tract_counts)\n",
    "census_tract_df.head()"
   ]
  },
  {
   "cell_type": "code",
   "execution_count": null,
   "id": "3cdedee9",
   "metadata": {},
   "outputs": [],
   "source": [
    "census_tract_df.index.name = 'census_tract'\n",
    "census_tract_df.rename(columns = {'census_tract':'incident_report_count'}, inplace=True)\n",
    "census_tract_df.head()"
   ]
  },
  {
   "cell_type": "code",
   "execution_count": null,
   "id": "0fc9d1f9",
   "metadata": {},
   "outputs": [],
   "source": [
    "crime_clean_df.to_csv('../Resources/Austin_Crime_Reports_Clean.csv')"
   ]
  },
  {
   "cell_type": "code",
   "execution_count": null,
   "id": "3c5b8249",
   "metadata": {},
   "outputs": [],
   "source": []
  },
  {
   "cell_type": "markdown",
   "id": "dd18d24d",
   "metadata": {},
   "source": [
    "# Database Connection"
   ]
  },
  {
   "cell_type": "code",
   "execution_count": null,
   "id": "43ef4354",
   "metadata": {},
   "outputs": [],
   "source": [
    "import sqlite3"
   ]
  },
  {
   "cell_type": "code",
   "execution_count": null,
   "id": "64480d42",
   "metadata": {},
   "outputs": [],
   "source": [
    "conn = sqlite3.connect('gentrification_db.sqlite')"
   ]
  },
  {
   "cell_type": "code",
   "execution_count": null,
   "id": "145886d1",
   "metadata": {},
   "outputs": [],
   "source": [
    "crime_clean_df.to_sql(name='crime_reports_df', con=conn, if_exists='replace', index=False)"
   ]
  },
  {
   "cell_type": "code",
   "execution_count": null,
   "id": "165e168a",
   "metadata": {},
   "outputs": [],
   "source": [
    "table_name = \"crime_reports_df\"\n",
    "sql_statement = f\"SELECT * FROM {table_name};\"\n",
    "print(sql_statement)\n",
    "\n",
    "crime_reports_df = pd.read_sql(sql_statement, conn)\n",
    "\n",
    "crime_reports_df.head(5)"
   ]
  },
  {
   "cell_type": "code",
   "execution_count": null,
   "id": "2d925017",
   "metadata": {},
   "outputs": [],
   "source": [
    "census_tract_df.to_sql(name='crime_census_df', con=conn, if_exists='replace', index=True)"
   ]
  },
  {
   "cell_type": "code",
   "execution_count": null,
   "id": "69a1eb05",
   "metadata": {},
   "outputs": [],
   "source": [
    "table_name = \"crime_census_df\"\n",
    "sql_statement = f\"SELECT * FROM {table_name};\"\n",
    "print(sql_statement)\n",
    "\n",
    "crime_census_df = pd.read_sql(sql_statement, conn)\n",
    "\n",
    "crime_census_df.head(5)"
   ]
  }
 ],
 "metadata": {
  "kernelspec": {
   "display_name": "mlenv",
   "language": "python",
   "name": "mlenv"
  },
  "language_info": {
   "codemirror_mode": {
    "name": "ipython",
    "version": 3
   },
   "file_extension": ".py",
   "mimetype": "text/x-python",
   "name": "python",
   "nbconvert_exporter": "python",
   "pygments_lexer": "ipython3",
   "version": "3.7.13"
  }
 },
 "nbformat": 4,
 "nbformat_minor": 5
}
